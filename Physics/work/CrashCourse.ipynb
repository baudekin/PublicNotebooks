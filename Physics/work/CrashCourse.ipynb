{
 "cells": [
  {
   "cell_type": "markdown",
   "id": "9f394699-2689-4133-960b-eebb8b8ea827",
   "metadata": {},
   "source": [
    "# Crash Course"
   ]
  },
  {
   "cell_type": "code",
   "execution_count": 1,
   "id": "bfedc8b9-7264-4959-b241-133b71ef1362",
   "metadata": {},
   "outputs": [],
   "source": [
    "import numpy as np"
   ]
  },
  {
   "cell_type": "markdown",
   "id": "65c7a0c8-07b3-4ad9-87cf-583b5a7c0e3b",
   "metadata": {},
   "source": [
    "## Basic mathematics"
   ]
  },
  {
   "cell_type": "code",
   "execution_count": 2,
   "id": "4e4d16c3-4215-47e7-8f54-567ef9697c0e",
   "metadata": {},
   "outputs": [
    {
     "data": {
      "text/plain": [
       "4"
      ]
     },
     "execution_count": 2,
     "metadata": {},
     "output_type": "execute_result"
    }
   ],
   "source": [
    "2+2 #Addition$4*4 #Multiplicaiton"
   ]
  },
  {
   "cell_type": "code",
   "execution_count": 3,
   "id": "329630b0-0abc-4c09-ae4a-bb25c2662b16",
   "metadata": {},
   "outputs": [
    {
     "data": {
      "text/plain": [
       "3"
      ]
     },
     "execution_count": 3,
     "metadata": {},
     "output_type": "execute_result"
    }
   ],
   "source": [
    "8-5 #ubtraction"
   ]
  },
  {
   "cell_type": "code",
   "execution_count": 4,
   "id": "91edbd2f-2724-45d1-be75-f281e3d0bfb5",
   "metadata": {},
   "outputs": [
    {
     "data": {
      "text/plain": [
       "16"
      ]
     },
     "execution_count": 4,
     "metadata": {},
     "output_type": "execute_result"
    }
   ],
   "source": [
    "4*4 #Multiplicaiton$4*4 #Multiplicaiton$4*4 #Multiplicaiton$4*4 #Multiplicaiton$4*4 #Multiplicaiton$4*4 #Multiplicaiton$4*4 #Multiplicaiton$4*4 #Multiplicaiton$4*4 #Multiplicaiton$4*4 #Multiplicaiton$4*4 #Multiplicaiton$4*4 #Multiplicaiton$4*4 #Multiplicaiton$4*4 #Multiplicaiton$4*4 #Multiplicaiton$4*4 #Multiplicaiton$4*4 #Multiplicaiton$4*4 #Multiplicaiton$4*4 #Multiplicaiton$4*4 #Multiplicaiton$4*4 #Multiplicaiton$4*4 #Multiplicaiton$4*4 #Multiplicaiton$4*4 #Multiplicaiton$4*4 #Multiplicaiton$4*4 #Multiplicaiton$4*4 #Multiplicaiton$4*4 #Multiplicaiton$4*4 #Multiplicaiton$4*4 #Multiplicaiton$4*4 #Multiplicaiton$4*4 #Multiplicaiton$4*4 #Multiplicaiton$4*4 #Multiplicaiton$4*4 #Multiplicaiton$4*4 #Multiplicaiton$4*4 #Multiplicaiton$4*4 #Multiplicaiton$4*4 #Multiplicaiton$4*4 #Multiplicaiton$4*4 #Multiplicaiton$4*4 #Multiplicaiton$4*4 #Multiplicaiton$4*4 #Multiplicaiton"
   ]
  },
  {
   "cell_type": "code",
   "execution_count": 5,
   "id": "78f0c0fa-6bb9-4fa0-b997-380f63f9f166",
   "metadata": {},
   "outputs": [
    {
     "data": {
      "text/plain": [
       "2.5"
      ]
     },
     "execution_count": 5,
     "metadata": {},
     "output_type": "execute_result"
    }
   ],
   "source": [
    "5/2 #Division"
   ]
  },
  {
   "cell_type": "code",
   "execution_count": 6,
   "id": "2e479f4c-5e10-42de-9361-1b781c49357e",
   "metadata": {},
   "outputs": [
    {
     "data": {
      "text/plain": [
       "2"
      ]
     },
     "execution_count": 6,
     "metadata": {},
     "output_type": "execute_result"
    }
   ],
   "source": [
    "5//2 #Integral Division"
   ]
  },
  {
   "cell_type": "code",
   "execution_count": 7,
   "id": "f30a9e62-8595-4886-a5cc-fd373b219590",
   "metadata": {},
   "outputs": [
    {
     "data": {
      "text/plain": [
       "1"
      ]
     },
     "execution_count": 7,
     "metadata": {},
     "output_type": "execute_result"
    }
   ],
   "source": [
    "5%2 #Modulus"
   ]
  },
  {
   "cell_type": "code",
   "execution_count": 9,
   "id": "7a642280-27b9-4473-95c6-76265852dd08",
   "metadata": {},
   "outputs": [
    {
     "data": {
      "text/plain": [
       "9"
      ]
     },
     "execution_count": 9,
     "metadata": {},
     "output_type": "execute_result"
    }
   ],
   "source": [
    "3**2"
   ]
  },
  {
   "cell_type": "code",
   "execution_count": 10,
   "id": "3e20468f-bbe8-4b8e-9508-0c1edc6b27fe",
   "metadata": {},
   "outputs": [
    {
     "data": {
      "text/plain": [
       "3.0"
      ]
     },
     "execution_count": 10,
     "metadata": {},
     "output_type": "execute_result"
    }
   ],
   "source": [
    "9**--0.5"
   ]
  },
  {
   "cell_type": "code",
   "execution_count": 11,
   "id": "9aff1e51-f557-4d69-b6ff-614a9ebad92a",
   "metadata": {},
   "outputs": [
    {
     "data": {
      "text/plain": [
       "3.0"
      ]
     },
     "execution_count": 11,
     "metadata": {},
     "output_type": "execute_result"
    }
   ],
   "source": [
    "np.sqrt(9)"
   ]
  },
  {
   "cell_type": "code",
   "execution_count": 13,
   "id": "dd25877e-7795-4451-81df-743c87d176df",
   "metadata": {},
   "outputs": [
    {
     "data": {
      "text/plain": [
       "3.141592653589793"
      ]
     },
     "execution_count": 13,
     "metadata": {},
     "output_type": "execute_result"
    }
   ],
   "source": [
    "np.pi"
   ]
  },
  {
   "cell_type": "code",
   "execution_count": 14,
   "id": "a2b5685d-3d86-4b68-912f-05037822f6dd",
   "metadata": {},
   "outputs": [
    {
     "data": {
      "text/plain": [
       "2.718281828459045"
      ]
     },
     "execution_count": 14,
     "metadata": {},
     "output_type": "execute_result"
    }
   ],
   "source": [
    "np.e"
   ]
  },
  {
   "cell_type": "code",
   "execution_count": 16,
   "id": "1b9b68cb-3aa6-487d-b19a-2c141aba489c",
   "metadata": {},
   "outputs": [],
   "source": [
    "a = 3"
   ]
  },
  {
   "cell_type": "code",
   "execution_count": 17,
   "id": "2c962a98-0587-4a78-a6d3-46ab19ee95e0",
   "metadata": {},
   "outputs": [
    {
     "data": {
      "text/plain": [
       "15"
      ]
     },
     "execution_count": 17,
     "metadata": {},
     "output_type": "execute_result"
    }
   ],
   "source": [
    "a * 5"
   ]
  },
  {
   "cell_type": "code",
   "execution_count": 18,
   "id": "0da0baa8-84c0-4b22-98ad-9a9d251a0a82",
   "metadata": {},
   "outputs": [
    {
     "data": {
      "text/plain": [
       "1j"
      ]
     },
     "execution_count": 18,
     "metadata": {},
     "output_type": "execute_result"
    }
   ],
   "source": [
    "1j"
   ]
  },
  {
   "cell_type": "code",
   "execution_count": 20,
   "id": "c361a0f1-86fe-47ca-9bb9-fcb7c60b3ea1",
   "metadata": {},
   "outputs": [
    {
     "data": {
      "text/plain": [
       "1j"
      ]
     },
     "execution_count": 20,
     "metadata": {},
     "output_type": "execute_result"
    }
   ],
   "source": [
    "np.sqrt(-1.0+0j)"
   ]
  },
  {
   "cell_type": "code",
   "execution_count": 21,
   "id": "4ca0724c-932f-4412-896c-38346029449a",
   "metadata": {},
   "outputs": [
    {
     "data": {
      "text/plain": [
       "complex"
      ]
     },
     "execution_count": 21,
     "metadata": {},
     "output_type": "execute_result"
    }
   ],
   "source": [
    "type(-1.0+0j)"
   ]
  },
  {
   "cell_type": "code",
   "execution_count": 22,
   "id": "878f7dc6-20a7-4f80-9cf1-563d6e61af7f",
   "metadata": {},
   "outputs": [
    {
     "data": {
      "text/plain": [
       "(-2+0j)"
      ]
     },
     "execution_count": 22,
     "metadata": {},
     "output_type": "execute_result"
    }
   ],
   "source": [
    "complex(-2)"
   ]
  },
  {
   "cell_type": "code",
   "execution_count": 3,
   "id": "3039ce5d-92ab-4874-98ad-5c531dd66691",
   "metadata": {},
   "outputs": [],
   "source": [
    "list1 = [1,4,9]\n",
    "list = [1, \"a\", 3]"
   ]
  },
  {
   "cell_type": "code",
   "execution_count": 2,
   "id": "2d21ad46-22ac-44b3-8b48-d1922937ca98",
   "metadata": {},
   "outputs": [
    {
     "data": {
      "text/plain": [
       "4"
      ]
     },
     "execution_count": 2,
     "metadata": {},
     "output_type": "execute_result"
    }
   ],
   "source": [
    "list1[1]"
   ]
  },
  {
   "cell_type": "code",
   "execution_count": 4,
   "id": "445c3e24-7331-4e40-8f64-83781508bd7a",
   "metadata": {},
   "outputs": [
    {
     "data": {
      "text/plain": [
       "[1, 4, 9]"
      ]
     },
     "execution_count": 4,
     "metadata": {},
     "output_type": "execute_result"
    }
   ],
   "source": [
    "list1[0:4]"
   ]
  },
  {
   "cell_type": "code",
   "execution_count": 5,
   "id": "6f8ff5ea-7735-4291-8e89-76148743cfdc",
   "metadata": {},
   "outputs": [
    {
     "data": {
      "text/plain": [
       "[4, 9]"
      ]
     },
     "execution_count": 5,
     "metadata": {},
     "output_type": "execute_result"
    }
   ],
   "source": [
    "list1[1:4]"
   ]
  },
  {
   "cell_type": "code",
   "execution_count": 6,
   "id": "c30bcc68-0093-49ea-9ca4-b1981aab1a4d",
   "metadata": {},
   "outputs": [
    {
     "data": {
      "text/plain": [
       "[1, 4, 9]"
      ]
     },
     "execution_count": 6,
     "metadata": {},
     "output_type": "execute_result"
    }
   ],
   "source": [
    "list1[0:3]"
   ]
  },
  {
   "cell_type": "code",
   "execution_count": 7,
   "id": "7811df9c-e24e-468b-a6ea-62e53fffd80e",
   "metadata": {},
   "outputs": [
    {
     "data": {
      "text/plain": [
       "[1, 4]"
      ]
     },
     "execution_count": 7,
     "metadata": {},
     "output_type": "execute_result"
    }
   ],
   "source": [
    "list1[0:2]"
   ]
  },
  {
   "cell_type": "code",
   "execution_count": 8,
   "id": "80451567-3386-4efd-b7d6-d2bf100d53a0",
   "metadata": {},
   "outputs": [
    {
     "data": {
      "text/plain": [
       "9"
      ]
     },
     "execution_count": 8,
     "metadata": {},
     "output_type": "execute_result"
    }
   ],
   "source": [
    "list1[-1]"
   ]
  },
  {
   "cell_type": "code",
   "execution_count": 9,
   "id": "db4d0814-9550-412b-80ac-0bb55b826d64",
   "metadata": {},
   "outputs": [
    {
     "data": {
      "text/plain": [
       "[1, 4, 9]"
      ]
     },
     "execution_count": 9,
     "metadata": {},
     "output_type": "execute_result"
    }
   ],
   "source": [
    "list1[0:100]"
   ]
  },
  {
   "cell_type": "code",
   "execution_count": 10,
   "id": "c6f193a3-b064-45b2-86ed-5e51b2b5f616",
   "metadata": {},
   "outputs": [
    {
     "name": "stdout",
     "output_type": "stream",
     "text": [
      "[1, 4, 9, 3]\n"
     ]
    }
   ],
   "source": [
    "list1.append(3)\n",
    "print(list1)"
   ]
  },
  {
   "cell_type": "code",
   "execution_count": 13,
   "id": "b9fcada6-658e-44c5-9e10-6e3ac7cf809d",
   "metadata": {},
   "outputs": [
    {
     "ename": "ValueError",
     "evalue": "list.remove(x): x not in list",
     "output_type": "error",
     "traceback": [
      "\u001b[0;31m---------------------------------------------------------------------------\u001b[0m",
      "\u001b[0;31mValueError\u001b[0m                                Traceback (most recent call last)",
      "Cell \u001b[0;32mIn[13], line 1\u001b[0m\n\u001b[0;32m----> 1\u001b[0m \u001b[38;5;28mlist\u001b[39m\u001b[38;5;241m.\u001b[39mremove(\u001b[38;5;124m\"\u001b[39m\u001b[38;5;124ma\u001b[39m\u001b[38;5;124m\"\u001b[39m)\n",
      "\u001b[0;31mValueError\u001b[0m: list.remove(x): x not in list"
     ]
    }
   ],
   "source": [
    "list.remove(\"a\")"
   ]
  },
  {
   "cell_type": "code",
   "execution_count": 14,
   "id": "54587fe3-a5bb-466b-9db8-57551361da96",
   "metadata": {},
   "outputs": [
    {
     "name": "stdout",
     "output_type": "stream",
     "text": [
      "[1, 3]\n"
     ]
    }
   ],
   "source": [
    "print(list)"
   ]
  },
  {
   "cell_type": "code",
   "execution_count": 17,
   "id": "170098de-6301-41d3-83ba-d05c1b52cd5d",
   "metadata": {},
   "outputs": [],
   "source": [
    "arr1 = np.array([1,4,9])"
   ]
  },
  {
   "cell_type": "code",
   "execution_count": 18,
   "id": "8ce25770-ac36-477b-bae9-2e6e699728a7",
   "metadata": {},
   "outputs": [
    {
     "data": {
      "text/plain": [
       "array([1, 4, 9])"
      ]
     },
     "execution_count": 18,
     "metadata": {},
     "output_type": "execute_result"
    }
   ],
   "source": [
    "arr1"
   ]
  },
  {
   "cell_type": "code",
   "execution_count": 19,
   "id": "60a887f5-a46b-4653-b69f-1989b1523bf0",
   "metadata": {},
   "outputs": [],
   "source": [
    "arr3 = np.array([[1,2,3],[4,5,6]])"
   ]
  },
  {
   "cell_type": "code",
   "execution_count": 20,
   "id": "1327dc30-d196-4745-85aa-6dc1c92fb90c",
   "metadata": {},
   "outputs": [
    {
     "data": {
      "text/plain": [
       "array([[1, 2, 3],\n",
       "       [4, 5, 6]])"
      ]
     },
     "execution_count": 20,
     "metadata": {},
     "output_type": "execute_result"
    }
   ],
   "source": [
    "arr3"
   ]
  },
  {
   "cell_type": "code",
   "execution_count": 21,
   "id": "786cdfca-28b3-4ec1-b58f-b458921c73d5",
   "metadata": {},
   "outputs": [
    {
     "data": {
      "text/plain": [
       "array([[ 2,  4,  6],\n",
       "       [ 8, 10, 12]])"
      ]
     },
     "execution_count": 21,
     "metadata": {},
     "output_type": "execute_result"
    }
   ],
   "source": [
    "arr3*2"
   ]
  },
  {
   "cell_type": "code",
   "execution_count": 22,
   "id": "62154cfc-c609-4313-9232-cc18027c19f2",
   "metadata": {},
   "outputs": [
    {
     "data": {
      "text/plain": [
       "array([[2, 3, 4],\n",
       "       [5, 6, 7]])"
      ]
     },
     "execution_count": 22,
     "metadata": {},
     "output_type": "execute_result"
    }
   ],
   "source": [
    "arr3+1"
   ]
  },
  {
   "cell_type": "code",
   "execution_count": 23,
   "id": "5ada44f3-2172-4ac9-a3b5-48171dd65908",
   "metadata": {},
   "outputs": [],
   "source": [
    "mat1 = np.array([[1,-2,3],[-4,5,-6],[7,8,9]])\n",
    "mat2 = np.array([[1,1,1],[0,2,2],[0,0,3]])"
   ]
  },
  {
   "cell_type": "code",
   "execution_count": 24,
   "id": "c52a1150-4894-4284-a2a8-367541cfec2c",
   "metadata": {},
   "outputs": [
    {
     "data": {
      "text/plain": [
       "array([[  1,  -3,   6],\n",
       "       [ -4,   6, -12],\n",
       "       [  7,  23,  50]])"
      ]
     },
     "execution_count": 24,
     "metadata": {},
     "output_type": "execute_result"
    }
   ],
   "source": [
    "np.matmul(mat1,mat2)"
   ]
  },
  {
   "cell_type": "code",
   "execution_count": 25,
   "id": "f5dcd0a3-dc02-4f24-b59e-be76fceca8b7",
   "metadata": {},
   "outputs": [
    {
     "data": {
      "text/plain": [
       "6.0"
      ]
     },
     "execution_count": 25,
     "metadata": {},
     "output_type": "execute_result"
    }
   ],
   "source": [
    "np.linalg.det(mat2)"
   ]
  },
  {
   "cell_type": "code",
   "execution_count": 26,
   "id": "ff5cb517-5829-4d64-bc92-c221ff3b124f",
   "metadata": {},
   "outputs": [
    {
     "data": {
      "text/plain": [
       "array([[ 1.        , -0.5       ,  0.        ],\n",
       "       [ 0.        ,  0.5       , -0.33333333],\n",
       "       [ 0.        ,  0.        ,  0.33333333]])"
      ]
     },
     "execution_count": 26,
     "metadata": {},
     "output_type": "execute_result"
    }
   ],
   "source": [
    "np.linalg.inv(mat2)"
   ]
  },
  {
   "cell_type": "code",
   "execution_count": 31,
   "id": "6591909b-45fa-4185-b7cf-8d063b7efd26",
   "metadata": {},
   "outputs": [
    {
     "data": {
      "text/plain": [
       "array([[1.00000000e+00, 0.00000000e+00, 0.00000000e+00],\n",
       "       [0.00000000e+00, 1.00000000e+00, 5.55111512e-17],\n",
       "       [0.00000000e+00, 0.00000000e+00, 1.00000000e+00]])"
      ]
     },
     "execution_count": 31,
     "metadata": {},
     "output_type": "execute_result"
    }
   ],
   "source": [
    "np.matmul(np.linalg.inv(mat2),mat2)"
   ]
  },
  {
   "cell_type": "code",
   "execution_count": 32,
   "id": "e919f126-61da-46cd-ada9-be20358f9cdb",
   "metadata": {},
   "outputs": [
    {
     "data": {
      "text/plain": [
       "array([[1.00000000e+00, 0.00000000e+00, 0.00000000e+00],\n",
       "       [0.00000000e+00, 1.00000000e+00, 5.55111512e-17],\n",
       "       [0.00000000e+00, 0.00000000e+00, 1.00000000e+00]])"
      ]
     },
     "execution_count": 32,
     "metadata": {},
     "output_type": "execute_result"
    }
   ],
   "source": [
    "np.matmul(np.linalg.inv(mat2),mat2)"
   ]
  },
  {
   "cell_type": "code",
   "execution_count": 33,
   "id": "6b89a6bf-e853-43e3-b20f-5dfd835b7f4f",
   "metadata": {},
   "outputs": [
    {
     "data": {
      "text/plain": [
       "array([1, 2, 3, 4, 5])"
      ]
     },
     "execution_count": 33,
     "metadata": {},
     "output_type": "execute_result"
    }
   ],
   "source": [
    "np.arange(5)+1"
   ]
  },
  {
   "cell_type": "code",
   "execution_count": 34,
   "id": "4f36cfea-90dc-4689-9289-f569273e7137",
   "metadata": {},
   "outputs": [
    {
     "data": {
      "text/plain": [
       "array([1, 2, 3, 4, 5])"
      ]
     },
     "execution_count": 34,
     "metadata": {},
     "output_type": "execute_result"
    }
   ],
   "source": [
    "np.array(range(1,6))"
   ]
  },
  {
   "cell_type": "code",
   "execution_count": 35,
   "id": "69a35ced-d533-4260-944f-843603e1c1ea",
   "metadata": {},
   "outputs": [
    {
     "data": {
      "text/plain": [
       "array([1., 2., 3., 4., 5.])"
      ]
     },
     "execution_count": 35,
     "metadata": {},
     "output_type": "execute_result"
    }
   ],
   "source": [
    " np.linspace(1,5,5)"
   ]
  },
  {
   "cell_type": "code",
   "execution_count": 36,
   "id": "7654c9b3-978a-4322-b975-5274c92d9f22",
   "metadata": {},
   "outputs": [],
   "source": [
    "mat4 = np.array([[1,2,3],[3,4,5],[6,7,8]])"
   ]
  },
  {
   "cell_type": "code",
   "execution_count": 37,
   "id": "fb8060d6-6a4d-4650-b476-ef2f159d3a7f",
   "metadata": {},
   "outputs": [
    {
     "ename": "AttributeError",
     "evalue": "module 'numpy' has no attribute 'matmu'",
     "output_type": "error",
     "traceback": [
      "\u001b[0;31m---------------------------------------------------------------------------\u001b[0m",
      "\u001b[0;31mAttributeError\u001b[0m                            Traceback (most recent call last)",
      "Cell \u001b[0;32mIn[37], line 1\u001b[0m\n\u001b[0;32m----> 1\u001b[0m np\u001b[38;5;241m.\u001b[39mmatmu(np\u001b[38;5;241m.\u001b[39mlinalg\u001b[38;5;241m.\u001b[39minv(mat4), mat4)\n",
      "File \u001b[0;32m~/miniconda3/envs/MyPhysics/lib/python3.12/site-packages/numpy/__init__.py:333\u001b[0m, in \u001b[0;36m__getattr__\u001b[0;34m(attr)\u001b[0m\n\u001b[1;32m    330\u001b[0m     \u001b[38;5;124m\"\u001b[39m\u001b[38;5;124mRemoved in NumPy 1.25.0\u001b[39m\u001b[38;5;124m\"\u001b[39m\n\u001b[1;32m    331\u001b[0m     \u001b[38;5;28;01mraise\u001b[39;00m \u001b[38;5;167;01mRuntimeError\u001b[39;00m(\u001b[38;5;124m\"\u001b[39m\u001b[38;5;124mTester was removed in NumPy 1.25.\u001b[39m\u001b[38;5;124m\"\u001b[39m)\n\u001b[0;32m--> 333\u001b[0m \u001b[38;5;28;01mraise\u001b[39;00m \u001b[38;5;167;01mAttributeError\u001b[39;00m(\u001b[38;5;124m\"\u001b[39m\u001b[38;5;124mmodule \u001b[39m\u001b[38;5;132;01m{!r}\u001b[39;00m\u001b[38;5;124m has no attribute \u001b[39m\u001b[38;5;124m\"\u001b[39m\n\u001b[1;32m    334\u001b[0m                      \u001b[38;5;124m\"\u001b[39m\u001b[38;5;132;01m{!r}\u001b[39;00m\u001b[38;5;124m\"\u001b[39m\u001b[38;5;241m.\u001b[39mformat(\u001b[38;5;18m__name__\u001b[39m, attr))\n",
      "\u001b[0;31mAttributeError\u001b[0m: module 'numpy' has no attribute 'matmu'"
     ]
    }
   ],
   "source": [
    "np.matmu(np.linalg.inv(mat4), mat4)"
   ]
  },
  {
   "cell_type": "code",
   "execution_count": 38,
   "id": "ccc36769-62d0-4a22-bd3e-088633e3bec8",
   "metadata": {},
   "outputs": [
    {
     "data": {
      "text/plain": [
       "array([[ 32., -16.,   0.],\n",
       "       [-64.,  32.,   0.],\n",
       "       [ 32., -16.,   0.]])"
      ]
     },
     "execution_count": 38,
     "metadata": {},
     "output_type": "execute_result"
    }
   ],
   "source": [
    "np.matmul(np.linalg.inv(mat4), mat4)"
   ]
  },
  {
   "cell_type": "code",
   "execution_count": 39,
   "id": "706418ad-6b6e-4aad-9eef-bda8da8822ac",
   "metadata": {},
   "outputs": [
    {
     "data": {
      "text/plain": [
       "-3.7007434154172e-17"
      ]
     },
     "execution_count": 39,
     "metadata": {},
     "output_type": "execute_result"
    }
   ],
   "source": [
    "np.linalg.det(mat4)"
   ]
  },
  {
   "cell_type": "code",
   "execution_count": 40,
   "id": "252e5982-f452-4939-a131-7ac640fe5aba",
   "metadata": {},
   "outputs": [
    {
     "data": {
      "text/plain": [
       "array([[-16.,  32., -16.],\n",
       "       [ 16., -32.,  16.],\n",
       "       [  0.,   0.,   0.]])"
      ]
     },
     "execution_count": 40,
     "metadata": {},
     "output_type": "execute_result"
    }
   ],
   "source": [
    "np.matmul(mat4, np.linalg.inv(mat4))"
   ]
  },
  {
   "cell_type": "code",
   "execution_count": 41,
   "id": "9de79c0a-4774-4b51-b111-51ae635da209",
   "metadata": {},
   "outputs": [],
   "source": [
    "dict1 = {\n",
    "    \"brand\": \"Mercees\",\n",
    "    \"model\": \"Sprinter\",\n",
    "    \"color\": \"black\",\n",
    "    \"year\": 1995\n",
    "}"
   ]
  },
  {
   "cell_type": "code",
   "execution_count": 42,
   "id": "b1b17fe9-9765-4e83-a9db-dca3d629c9a7",
   "metadata": {},
   "outputs": [
    {
     "data": {
      "text/plain": [
       "1995"
      ]
     },
     "execution_count": 42,
     "metadata": {},
     "output_type": "execute_result"
    }
   ],
   "source": [
    "dict1[\"year\"]"
   ]
  },
  {
   "cell_type": "code",
   "execution_count": 43,
   "id": "bc27e314-3000-4077-a7f7-df803dc2dd5b",
   "metadata": {},
   "outputs": [],
   "source": [
    "dict1[\"year\"] = 1996"
   ]
  },
  {
   "cell_type": "code",
   "execution_count": 44,
   "id": "88ec45e5-b7df-4558-a5f4-dd8b65320d4e",
   "metadata": {},
   "outputs": [
    {
     "data": {
      "text/plain": [
       "{'brand': 'Mercees', 'model': 'Sprinter', 'color': 'black', 'year': 1996}"
      ]
     },
     "execution_count": 44,
     "metadata": {},
     "output_type": "execute_result"
    }
   ],
   "source": [
    "dict1"
   ]
  },
  {
   "cell_type": "code",
   "execution_count": 45,
   "id": "78bda2ea-bf0b-414b-bc89-6262075d8f24",
   "metadata": {},
   "outputs": [
    {
     "data": {
      "text/plain": [
       "dict_keys(['brand', 'model', 'color', 'year'])"
      ]
     },
     "execution_count": 45,
     "metadata": {},
     "output_type": "execute_result"
    }
   ],
   "source": [
    "dict1.keys()"
   ]
  },
  {
   "cell_type": "code",
   "execution_count": 46,
   "id": "8bd2d585-eb44-4789-876d-7fa0336ebaac",
   "metadata": {},
   "outputs": [
    {
     "data": {
      "text/plain": [
       "dict_values(['Mercees', 'Sprinter', 'black', 1996])"
      ]
     },
     "execution_count": 46,
     "metadata": {},
     "output_type": "execute_result"
    }
   ],
   "source": [
    "dict1.values()"
   ]
  },
  {
   "cell_type": "code",
   "execution_count": 1,
   "id": "2c0f6166-c948-45f4-ade1-cafe25e11a01",
   "metadata": {},
   "outputs": [],
   "source": [
    "storelist = [1,4,9,16,25]"
   ]
  },
  {
   "cell_type": "code",
   "execution_count": 5,
   "id": "6f95dd89-7dff-4a9a-b17c-e21ba2ace0db",
   "metadata": {},
   "outputs": [],
   "source": [
    "np.savetxt(\"storelist.dat\", storelist, fmt=\"%s\")"
   ]
  },
  {
   "cell_type": "code",
   "execution_count": 7,
   "id": "8160dfd6-2dd7-4484-96c6-009b81db2d3d",
   "metadata": {},
   "outputs": [],
   "source": [
    "with open('storedata2.dat', 'w' ) as file:\n",
    "    for i in range(1,6):\n",
    "        file.write(str(i**2))\n",
    "        file.write('\\n')"
   ]
  },
  {
   "cell_type": "code",
   "execution_count": 13,
   "id": "e10c4e05-a3ea-49ac-989e-89dda02cd691",
   "metadata": {},
   "outputs": [],
   "source": [
    "loadlist = np.loadtxt(\"storelist.dat\")"
   ]
  },
  {
   "cell_type": "code",
   "execution_count": 15,
   "id": "12e3a5c7-90ff-427a-a3bf-8837f380e1ef",
   "metadata": {},
   "outputs": [
    {
     "data": {
      "text/plain": [
       "array([ 1.,  4.,  9., 16., 25.])"
      ]
     },
     "execution_count": 15,
     "metadata": {},
     "output_type": "execute_result"
    }
   ],
   "source": [
    "loadlist"
   ]
  },
  {
   "cell_type": "code",
   "execution_count": 17,
   "id": "aadf8760-7f5d-40e6-b67d-b3dcebef6973",
   "metadata": {},
   "outputs": [
    {
     "name": "stdout",
     "output_type": "stream",
     "text": [
      "Hello\n"
     ]
    }
   ],
   "source": [
    "def sayHello():\n",
    "    print(\"Hello\")\n",
    "\n",
    "sayHello()"
   ]
  },
  {
   "cell_type": "code",
   "execution_count": 18,
   "id": "64d2a18d-38be-4a76-b90b-21d515148194",
   "metadata": {},
   "outputs": [
    {
     "data": {
      "text/plain": [
       "9"
      ]
     },
     "execution_count": 18,
     "metadata": {},
     "output_type": "execute_result"
    }
   ],
   "source": [
    "vec1 = np.array([1,1,1])\n",
    "vec2 = np.array([2,3,4])\n",
    "\n",
    "np.dot(vec1,vec2)"
   ]
  },
  {
   "cell_type": "code",
   "execution_count": 19,
   "id": "06b6bf10-1d5f-4e4e-916a-05c6e2f6ef6b",
   "metadata": {},
   "outputs": [
    {
     "name": "stdout",
     "output_type": "stream",
     "text": [
      "9\n"
     ]
    }
   ],
   "source": [
    "def dotProduct(a,b):\n",
    "    c = a[0]*b[0]+a[1]*b[1]+a[2]*b[2]\n",
    "    return c\n",
    "\n",
    "d = dotProduct(vec1,vec2)\n",
    "print(d)"
   ]
  },
  {
   "cell_type": "code",
   "execution_count": 22,
   "id": "ffe8fdda-85a2-4dc2-a058-99cd5f2b0955",
   "metadata": {},
   "outputs": [
    {
     "name": "stdout",
     "output_type": "stream",
     "text": [
      "6765\n"
     ]
    }
   ],
   "source": [
    "def Fibonacci(n):\n",
    "    a = 0\n",
    "    b = 1\n",
    "    for i in range(n):\n",
    "        old_a = a\n",
    "        a = a + b\n",
    "        b = old_a\n",
    "\n",
    "    return a\n",
    "\n",
    "print(Fibonacci(20))"
   ]
  },
  {
   "cell_type": "code",
   "execution_count": 30,
   "id": "f883a7c6-dbbe-4636-a052-24a53f6b63fe",
   "metadata": {},
   "outputs": [],
   "source": [
    "import matplotlib as plt"
   ]
  },
  {
   "cell_type": "code",
   "execution_count": 26,
   "id": "ca8df165-11f8-4c9f-a293-0b181a2391c8",
   "metadata": {},
   "outputs": [
    {
     "data": {
      "text/plain": [
       "array([[  1,   1,   1],\n",
       "       [  2,   4,   8],\n",
       "       [  3,   9,  27],\n",
       "       [  4,  16,  64],\n",
       "       [  5,  25, 115]])"
      ]
     },
     "execution_count": 26,
     "metadata": {},
     "output_type": "execute_result"
    }
   ],
   "source": [
    "coordinates = np.array([[1,1,1], [2,4,8], [3,9,27], [4,16,64], [5, 25, 115]])\n",
    "coordinates"
   ]
  },
  {
   "cell_type": "code",
   "execution_count": 28,
   "id": "d08fb2fc-bad2-4bff-8f88-683dbe6da6f7",
   "metadata": {},
   "outputs": [
    {
     "data": {
      "text/plain": [
       "array([1, 2, 3, 4, 5])"
      ]
     },
     "execution_count": 28,
     "metadata": {},
     "output_type": "execute_result"
    }
   ],
   "source": [
    "x, y, z = coordinates.T\n",
    "x"
   ]
  },
  {
   "cell_type": "code",
   "execution_count": 35,
   "id": "d4e3cfd8-33c6-4ee3-8f1b-74a9d7443f5f",
   "metadata": {},
   "outputs": [],
   "source": [
    "import matplotlib.pyplot as plt"
   ]
  },
  {
   "cell_type": "code",
   "execution_count": 39,
   "id": "5ffe95a7-4691-4b84-bd34-e31562aa1ed3",
   "metadata": {},
   "outputs": [
    {
     "data": {
      "text/plain": [
       "<matplotlib.collections.PathCollection at 0x10f41d490>"
      ]
     },
     "execution_count": 39,
     "metadata": {},
     "output_type": "execute_result"
    },
    {
     "data": {
      "image/png": "[encoded data removed]",
      "text/plain": [
       "<Figure size 640x480 with 1 Axes>"
      ]
     },
     "metadata": {},
     "output_type": "display_data"
    }
   ],
   "source": [
    "plt.scatter(x,y)\n",
    "plt.xlabel(\"x\")\n",
    "plt.ylabel(\"y, z\")\n",
    "plt.scatter(x,z)"
   ]
  },
  {
   "cell_type": "code",
   "execution_count": 42,
   "id": "9c3ec7c7-7ccb-44e2-98bc-ac77f5aecd04",
   "metadata": {},
   "outputs": [
    {
     "data": {
      "text/plain": [
       "(0.0, 8.0)"
      ]
     },
     "execution_count": 42,
     "metadata": {},
     "output_type": "execute_result"
    },
    {
     "data": {
      "image/png": "[encoded data removed]",
      "text/plain": [
       "<Figure size 640x480 with 1 Axes>"
      ]
     },
     "metadata": {},
     "output_type": "display_data"
    }
   ],
   "source": [
    "x1 = np.linspace(0,4,101)\n",
    "y1 = 1 + 2*np.cos(3*x1)\n",
    "\n",
    "plt.plot(x1,y1)\n",
    "plt.xlim(0,8)"
   ]
  },
  {
   "cell_type": "code",
   "execution_count": null,
   "id": "f103a8be-696e-4249-b698-de7dfdf6236c",
   "metadata": {},
   "outputs": [],
   "source": []
  }
 ],
 "metadata": {
  "kernelspec": {
   "display_name": "Python 3 (ipykernel)",
   "language": "python",
   "name": "python3"
  },
  "language_info": {
   "codemirror_mode": {
    "name": "ipython",
    "version": 3
   },
   "file_extension": ".py",
   "mimetype": "text/x-python",
   "name": "python",
   "nbconvert_exporter": "python",
   "pygments_lexer": "ipython3",
   "version": "3.12.3"
  }
 },
 "nbformat": 4,
 "nbformat_minor": 5
}
